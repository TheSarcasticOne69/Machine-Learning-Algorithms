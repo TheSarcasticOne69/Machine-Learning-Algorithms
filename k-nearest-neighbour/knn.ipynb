{
  "nbformat": 4,
  "nbformat_minor": 0,
  "metadata": {
    "colab": {
      "provenance": [],
      "authorship_tag": "ABX9TyMpXJ+/7gpkPIHwlro1xhIK",
      "include_colab_link": true
    },
    "kernelspec": {
      "name": "python3",
      "display_name": "Python 3"
    },
    "language_info": {
      "name": "python"
    }
  },
  "cells": [
    {
      "cell_type": "markdown",
      "metadata": {
        "id": "view-in-github",
        "colab_type": "text"
      },
      "source": [
        "<a href=\"https://colab.research.google.com/github/TheSarcasticOne69/Machine-Learning-Algorithms/blob/main/knn.ipynb\" target=\"_parent\"><img src=\"https://colab.research.google.com/assets/colab-badge.svg\" alt=\"Open In Colab\"/></a>"
      ]
    },
    {
      "cell_type": "markdown",
      "source": [
        "🧠 K-Nearest Neighbors (KNN) - Overview\n",
        "K-Nearest Neighbors (KNN) is a simple, intuitive, and powerful supervised machine learning algorithm used for classification and regression tasks.\n",
        "\n",
        "How it works:\n",
        "* KNN classifies a data point based on how its neighbors are classified. The algorithm:\n",
        "\n",
        "* Stores all training data.\n",
        "\n",
        "* Calculates the distance (commonly Euclidean) between a new point and all training points.\n",
        "\n",
        "* Selects the k closest neighbors.\n",
        "\n",
        "* Assigns the most common class among those neighbors to the new point (in classification tasks).\n",
        "\n",
        "Key Characteristics:\n",
        "\n",
        "* Lazy learning algorithm: It doesn't learn an internal model during training.\n",
        "\n",
        "* Non-parametric: No assumptions about the underlying data distribution.\n",
        "\n",
        "* Distance-based: Sensitive to the scale of data, so feature normalization is important.\n",
        "\n",
        "Use Cases:\n",
        "Commonly used in recommendation systems, image recognition, and classification tasks such as the Iris dataset.\n",
        "\n"
      ],
      "metadata": {
        "id": "MhS8W3ZVW5HD"
      }
    },
    {
      "cell_type": "code",
      "execution_count": 1,
      "metadata": {
        "colab": {
          "base_uri": "https://localhost:8080/"
        },
        "id": "9XylEDlDWtP0",
        "outputId": "cd67fb23-39ea-49aa-8b12-e13344ef2704"
      },
      "outputs": [
        {
          "output_type": "stream",
          "name": "stdout",
          "text": [
            "Accuracy: 0.94\n",
            "Classification Report:\n",
            "              precision    recall  f1-score   support\n",
            "\n",
            "     class_0       0.93      1.00      0.97        14\n",
            "     class_1       1.00      0.86      0.92        14\n",
            "     class_2       0.89      1.00      0.94         8\n",
            "\n",
            "    accuracy                           0.94        36\n",
            "   macro avg       0.94      0.95      0.94        36\n",
            "weighted avg       0.95      0.94      0.94        36\n",
            "\n"
          ]
        }
      ],
      "source": [
        "from sklearn.datasets import load_wine\n",
        "from sklearn.model_selection import train_test_split\n",
        "from sklearn.preprocessing import StandardScaler\n",
        "from sklearn.neighbors import KNeighborsClassifier\n",
        "from sklearn.metrics import accuracy_score, classification_report\n",
        "\n",
        "# Load the wine dataset\n",
        "wine = load_wine()\n",
        "X = wine.data  # Features\n",
        "y = wine.target  # Labels\n",
        "\n",
        "# Split into training and testing datasets\n",
        "X_train, X_test, y_train, y_test = train_test_split(X, y, test_size=0.2, random_state=42)\n",
        "\n",
        "# Standardize features\n",
        "scaler = StandardScaler()\n",
        "X_train = scaler.fit_transform(X_train)\n",
        "X_test = scaler.transform(X_test)\n",
        "\n",
        "# Create and train the KNN model\n",
        "knn = KNeighborsClassifier(n_neighbors=3)  # You can adjust the number of neighbors\n",
        "knn.fit(X_train, y_train)\n",
        "\n",
        "# Make predictions\n",
        "y_pred = knn.predict(X_test)\n",
        "\n",
        "# Evaluate the model\n",
        "accuracy = accuracy_score(y_test, y_pred)\n",
        "print(f\"Accuracy: {accuracy:.2f}\")\n",
        "print(\"Classification Report:\")\n",
        "print(classification_report(y_test, y_pred, target_names=wine.target_names))\n"
      ]
    }
  ]
}