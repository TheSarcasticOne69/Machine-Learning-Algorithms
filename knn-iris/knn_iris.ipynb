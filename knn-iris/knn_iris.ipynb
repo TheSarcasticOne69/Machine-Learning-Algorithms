{
  "nbformat": 4,
  "nbformat_minor": 0,
  "metadata": {
    "colab": {
      "provenance": [],
      "authorship_tag": "ABX9TyN8he0zPqADpeDqCpinz1En",
      "include_colab_link": true
    },
    "kernelspec": {
      "name": "python3",
      "display_name": "Python 3"
    },
    "language_info": {
      "name": "python"
    }
  },
  "cells": [
    {
      "cell_type": "markdown",
      "metadata": {
        "id": "view-in-github",
        "colab_type": "text"
      },
      "source": [
        "<a href=\"https://colab.research.google.com/github/TheSarcasticOne69/Machine-Learning-Algorithms/blob/main/knn_iris.ipynb\" target=\"_parent\"><img src=\"https://colab.research.google.com/assets/colab-badge.svg\" alt=\"Open In Colab\"/></a>"
      ]
    },
    {
      "cell_type": "markdown",
      "source": [
        "# 🧠 K-Nearest Neighbors (KNN) - Overview\n",
        "K-Nearest Neighbors (KNN) is a simple, intuitive, and powerful supervised machine learning algorithm used for classification and regression tasks.\n",
        "\n",
        "How it works:\n",
        "KNN classifies a data point based on how its neighbors are classified. The algorithm:\n",
        "\n",
        " * Stores all training data.\n",
        "\n",
        "* Calculates the distance (commonly Euclidean) between a new point and all training points.\n",
        "\n",
        "* Selects the k closest neighbors.\n",
        "\n",
        "* Assigns the most common class among those neighbors to the new point (in classification tasks).\n",
        "\n",
        "Key Characteristics:\n",
        "\n",
        "* Lazy learning algorithm: It doesn't learn an internal model during training.\n",
        "\n",
        "* Non-parametric: No assumptions about the underlying data distribution.\n",
        "\n",
        "* Distance-based: Sensitive to the scale of data, so feature normalization is important.\n",
        "\n",
        "Use Cases:\n",
        "Commonly used in recommendation systems, image recognition, and classification tasks such as the Iris dataset."
      ],
      "metadata": {
        "id": "FM7lMfwQV4yA"
      }
    },
    {
      "cell_type": "code",
      "execution_count": 1,
      "metadata": {
        "colab": {
          "base_uri": "https://localhost:8080/"
        },
        "id": "jc8KaXHOVn0p",
        "outputId": "edaafff6-0149-43eb-e0cd-7236f95ef648"
      },
      "outputs": [
        {
          "output_type": "stream",
          "name": "stdout",
          "text": [
            "Accuracy: 1.00\n",
            "Classification Report:\n",
            "              precision    recall  f1-score   support\n",
            "\n",
            "      setosa       1.00      1.00      1.00        10\n",
            "  versicolor       1.00      1.00      1.00         9\n",
            "   virginica       1.00      1.00      1.00        11\n",
            "\n",
            "    accuracy                           1.00        30\n",
            "   macro avg       1.00      1.00      1.00        30\n",
            "weighted avg       1.00      1.00      1.00        30\n",
            "\n"
          ]
        }
      ],
      "source": [
        "from sklearn.datasets import load_iris\n",
        "from sklearn.model_selection import train_test_split\n",
        "from sklearn.preprocessing import StandardScaler\n",
        "from sklearn.neighbors import KNeighborsClassifier\n",
        "from sklearn.metrics import accuracy_score, classification_report\n",
        "\n",
        "# Load the iris dataset\n",
        "iris = load_iris()\n",
        "X = iris.data  # Features\n",
        "y = iris.target  # Labels\n",
        "\n",
        "# Split into training and testing datasets\n",
        "X_train, X_test, y_train, y_test = train_test_split(X, y, test_size=0.2, random_state=42)\n",
        "\n",
        "# Standardize features (important for distance-based algorithms like KNN)\n",
        "scaler = StandardScaler()\n",
        "X_train = scaler.fit_transform(X_train)\n",
        "X_test = scaler.transform(X_test)\n",
        "\n",
        "# Create and train the KNN model\n",
        "knn = KNeighborsClassifier(n_neighbors=3)  # You can adjust the number of neighbors\n",
        "knn.fit(X_train, y_train)\n",
        "\n",
        "# Make predictions\n",
        "y_pred = knn.predict(X_test)\n",
        "\n",
        "# Evaluate the model\n",
        "accuracy = accuracy_score(y_test, y_pred)\n",
        "print(f\"Accuracy: {accuracy:.2f}\")\n",
        "print(\"Classification Report:\")\n",
        "print(classification_report(y_test, y_pred, target_names=iris.target_names))\n"
      ]
    }
  ]
}